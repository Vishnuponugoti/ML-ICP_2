{
 "cells": [
  {
   "cell_type": "code",
   "execution_count": 1,
   "id": "ea3930e1",
   "metadata": {},
   "outputs": [
    {
     "name": "stdout",
     "output_type": "stream",
     "text": [
      "Number of Upper-case characters: 3\n",
      "Number of Lower-case characters: 12\n"
     ]
    }
   ],
   "source": [
    "# defining the string\n",
    "def case_count(string):\n",
    "    upper_count = 0\n",
    "    lower_count = 0\n",
    "    \n",
    "    # Iterating through each char in string\n",
    "    for char in string:\n",
    "        \n",
    "       # Checking if the character is in upper case\n",
    "        if char.isupper():\n",
    "            upper_count += 1\n",
    "        \n",
    "       # Checking if the character is in lower case\n",
    "        elif char.islower():\n",
    "            lower_count += 1\n",
    "    return (upper_count, lower_count)\n",
    "\n",
    "# Given string\n",
    "string = 'The quick Brow Fox'\n",
    "upper_count, lower_count = case_count(string)\n",
    "\n",
    "# Print the results\n",
    "print(\"Number of Upper-case characters:\", upper_count)\n",
    "print(\"Number of Lower-case characters:\", lower_count)"
   ]
  }
 ],
 "metadata": {
  "kernelspec": {
   "display_name": "Python 3 (ipykernel)",
   "language": "python",
   "name": "python3"
  },
  "language_info": {
   "codemirror_mode": {
    "name": "ipython",
    "version": 3
   },
   "file_extension": ".py",
   "mimetype": "text/x-python",
   "name": "python",
   "nbconvert_exporter": "python",
   "pygments_lexer": "ipython3",
   "version": "3.11.1"
  }
 },
 "nbformat": 4,
 "nbformat_minor": 5
}
