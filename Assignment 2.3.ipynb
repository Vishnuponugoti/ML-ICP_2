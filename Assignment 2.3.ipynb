{
 "cells": [
  {
   "cell_type": "code",
   "execution_count": 2,
   "id": "8f75991a",
   "metadata": {},
   "outputs": [
    {
     "name": "stdout",
     "output_type": "stream",
     "text": [
      "Elements: [23, 'Python', 23.98]\n",
      "Types: [<class 'int'>, <class 'str'>, <class 'float'>]\n"
     ]
    }
   ],
   "source": [
    "# Given list \n",
    "x = [23, 'Python' ,23.98]\n",
    "\n",
    "# Create an empty list\n",
    "type_list = []\n",
    "\n",
    "# Iterating through each item in x\n",
    "for item in x:\n",
    "    \n",
    "    # Appending item to type_list\n",
    "    type_list.append(type(item))\n",
    "\n",
    "# Printing the elements\n",
    "print(\"Elements:\", x)\n",
    "\n",
    "# Print the datatypes for elements\n",
    "print(\"Types:\",type_list)"
   ]
  }
 ],
 "metadata": {
  "kernelspec": {
   "display_name": "Python 3 (ipykernel)",
   "language": "python",
   "name": "python3"
  },
  "language_info": {
   "codemirror_mode": {
    "name": "ipython",
    "version": 3
   },
   "file_extension": ".py",
   "mimetype": "text/x-python",
   "name": "python",
   "nbconvert_exporter": "python",
   "pygments_lexer": "ipython3",
   "version": "3.11.1"
  }
 },
 "nbformat": 4,
 "nbformat_minor": 5
}
