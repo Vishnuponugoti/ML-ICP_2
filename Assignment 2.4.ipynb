{
 "cells": [
  {
   "cell_type": "code",
   "execution_count": 2,
   "id": "b791e4f5",
   "metadata": {},
   "outputs": [
    {
     "name": "stdout",
     "output_type": "stream",
     "text": [
      "Unique List: [1, 2, 3, 4, 5]\n"
     ]
    }
   ],
   "source": [
    "# Defining the list \n",
    "def unique_list(input_list):\n",
    "    \n",
    "    # Create an empty list to store unique items\n",
    "    unique_items = []\n",
    "\n",
    "   # Iterating through  each item in the original list\n",
    "    for item in input_list:\n",
    "        if item not in unique_items:\n",
    "            \n",
    "            # Appending items to unique items\n",
    "            unique_items.append(item)\n",
    "    return unique_items\n",
    "\n",
    "# Given sample list\n",
    "input_list = [1,2,3,3,3,3,4,5]\n",
    "unique_items = unique_list(input_list)\n",
    "\n",
    "# Print the unique list\n",
    "print(\"Unique List:\", unique_items)"
   ]
  },
  {
   "cell_type": "code",
   "execution_count": null,
   "id": "111e9ae8",
   "metadata": {},
   "outputs": [],
   "source": []
  }
 ],
 "metadata": {
  "kernelspec": {
   "display_name": "Python 3 (ipykernel)",
   "language": "python",
   "name": "python3"
  },
  "language_info": {
   "codemirror_mode": {
    "name": "ipython",
    "version": 3
   },
   "file_extension": ".py",
   "mimetype": "text/x-python",
   "name": "python",
   "nbconvert_exporter": "python",
   "pygments_lexer": "ipython3",
   "version": "3.11.1"
  }
 },
 "nbformat": 4,
 "nbformat_minor": 5
}
